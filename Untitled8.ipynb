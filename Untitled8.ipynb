{
  "nbformat": 4,
  "nbformat_minor": 0,
  "metadata": {
    "colab": {
      "name": "Untitled8.ipynb",
      "provenance": [],
      "authorship_tag": "ABX9TyOA4Ipq7zLnrdSk20wmOfYX",
      "include_colab_link": true
    },
    "kernelspec": {
      "name": "python3",
      "display_name": "Python 3"
    }
  },
  "cells": [
    {
      "cell_type": "markdown",
      "metadata": {
        "id": "view-in-github",
        "colab_type": "text"
      },
      "source": [
        "<a href=\"https://colab.research.google.com/github/thangpro1242002/thangpro1242002/blob/main/Untitled8.ipynb\" target=\"_parent\"><img src=\"https://colab.research.google.com/assets/colab-badge.svg\" alt=\"Open In Colab\"/></a>"
      ]
    },
    {
      "cell_type": "code",
      "metadata": {
        "id": "u6OCi2nQyNcR"
      },
      "source": [
        ""
      ],
      "execution_count": null,
      "outputs": []
    },
    {
      "cell_type": "markdown",
      "metadata": {
        "id": "t5Wv4VT5yZWG"
      },
      "source": [
        "Bài 5:  Thao tác với vòng lặp for\n"
      ]
    },
    {
      "cell_type": "code",
      "metadata": {
        "colab": {
          "base_uri": "https://localhost:8080/"
        },
        "id": "_z8-adAUyb38",
        "outputId": "69dee33c-4a61-42e6-94bd-b9ee90d78d26"
      },
      "source": [
        "a=[0, 1, 2.5, 3, 4, 5, 6, 7, 8.5, 9, 10]\n",
        "n=1\n",
        "import math\n",
        "for b in a:\n",
        "    print(\" giá trị phần tử thứ \",n, \"=\", b)\n",
        "    n+=1\n",
        "    if b>0:\n",
        "        print(\"logarit tự nhiên phần tử thứ \",n, \"=\", math.log(b))\n",
        "    else:\n",
        "        print(\"Không có logarit phần tử thứ n\")\n",
        "\n"
      ],
      "execution_count": 1,
      "outputs": [
        {
          "output_type": "stream",
          "text": [
            " giá trị phần tử thứ  1 = 0\n",
            "Không có logarit phần tử thứ n\n",
            " giá trị phần tử thứ  2 = 1\n",
            "logarit tự nhiên phần tử thứ  3 = 0.0\n",
            " giá trị phần tử thứ  3 = 2.5\n",
            "logarit tự nhiên phần tử thứ  4 = 0.9162907318741551\n",
            " giá trị phần tử thứ  4 = 3\n",
            "logarit tự nhiên phần tử thứ  5 = 1.0986122886681098\n",
            " giá trị phần tử thứ  5 = 4\n",
            "logarit tự nhiên phần tử thứ  6 = 1.3862943611198906\n",
            " giá trị phần tử thứ  6 = 5\n",
            "logarit tự nhiên phần tử thứ  7 = 1.6094379124341003\n",
            " giá trị phần tử thứ  7 = 6\n",
            "logarit tự nhiên phần tử thứ  8 = 1.791759469228055\n",
            " giá trị phần tử thứ  8 = 7\n",
            "logarit tự nhiên phần tử thứ  9 = 1.9459101490553132\n",
            " giá trị phần tử thứ  9 = 8.5\n",
            "logarit tự nhiên phần tử thứ  10 = 2.1400661634962708\n",
            " giá trị phần tử thứ  10 = 9\n",
            "logarit tự nhiên phần tử thứ  11 = 2.1972245773362196\n",
            " giá trị phần tử thứ  11 = 10\n",
            "logarit tự nhiên phần tử thứ  12 = 2.302585092994046\n"
          ],
          "name": "stdout"
        }
      ]
    }
  ]
}