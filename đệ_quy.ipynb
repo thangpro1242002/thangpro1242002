{
  "nbformat": 4,
  "nbformat_minor": 0,
  "metadata": {
    "colab": {
      "name": "đệ quy.ipynb",
      "provenance": [],
      "authorship_tag": "ABX9TyNTWG8rfFPE0G/1YH0bOjHX",
      "include_colab_link": true
    },
    "kernelspec": {
      "name": "python3",
      "display_name": "Python 3"
    }
  },
  "cells": [
    {
      "cell_type": "markdown",
      "metadata": {
        "id": "view-in-github",
        "colab_type": "text"
      },
      "source": [
        "<a href=\"https://colab.research.google.com/github/thangpro1242002/thangpro1242002/blob/main/%C4%91%E1%BB%87_quy.ipynb\" target=\"_parent\"><img src=\"https://colab.research.google.com/assets/colab-badge.svg\" alt=\"Open In Colab\"/></a>"
      ]
    },
    {
      "cell_type": "code",
      "metadata": {
        "id": "6u7wBbF85bML"
      },
      "source": [
        "def thapHaNoi(n, toaMot, toaHai, toaBa):\r\n",
        "\r\n",
        "    if n == 1:\r\n",
        "        print(\"Chuyen tu\", toaMot, \"sang\", toaBa)\r\n",
        "    else:\r\n",
        "        thapHaNoi(n-1,toaMot,toaBa ,toaHai)\r\n",
        "        print(\"Chuyen tu\", toaMot, \"sang\", toaBa)\r\n",
        "        thapHaNoi(n-1,toaHai,toaMot, toaBa)"
      ],
      "execution_count": 1,
      "outputs": []
    },
    {
      "cell_type": "code",
      "metadata": {
        "colab": {
          "base_uri": "https://localhost:8080/"
        },
        "id": "C0KP_nQX5iET",
        "outputId": "09d96e55-555f-4999-f05f-3549a41276b1"
      },
      "source": [
        "thapHaNoi(5,'A','B','C')"
      ],
      "execution_count": 2,
      "outputs": [
        {
          "output_type": "stream",
          "text": [
            "Chuyen tu A sang C\n",
            "Chuyen tu A sang B\n",
            "Chuyen tu C sang B\n",
            "Chuyen tu A sang C\n",
            "Chuyen tu B sang A\n",
            "Chuyen tu B sang C\n",
            "Chuyen tu A sang C\n",
            "Chuyen tu A sang B\n",
            "Chuyen tu C sang B\n",
            "Chuyen tu C sang A\n",
            "Chuyen tu B sang A\n",
            "Chuyen tu C sang B\n",
            "Chuyen tu A sang C\n",
            "Chuyen tu A sang B\n",
            "Chuyen tu C sang B\n",
            "Chuyen tu A sang C\n",
            "Chuyen tu B sang A\n",
            "Chuyen tu B sang C\n",
            "Chuyen tu A sang C\n",
            "Chuyen tu B sang A\n",
            "Chuyen tu C sang B\n",
            "Chuyen tu C sang A\n",
            "Chuyen tu B sang A\n",
            "Chuyen tu B sang C\n",
            "Chuyen tu A sang C\n",
            "Chuyen tu A sang B\n",
            "Chuyen tu C sang B\n",
            "Chuyen tu A sang C\n",
            "Chuyen tu B sang A\n",
            "Chuyen tu B sang C\n",
            "Chuyen tu A sang C\n"
          ],
          "name": "stdout"
        }
      ]
    },
    {
      "cell_type": "code",
      "metadata": {
        "colab": {
          "base_uri": "https://localhost:8080/"
        },
        "id": "mkrG1FvF5uIY",
        "outputId": "e5fb65b2-f689-43c1-aec8-b45cd9eec81b"
      },
      "source": [
        "def ucln(a, b):\r\n",
        "    if (b == 0):\r\n",
        "        return a\r\n",
        "    return ucln(b, a % b)\r\n",
        "ucln(15,20)"
      ],
      "execution_count": 10,
      "outputs": [
        {
          "output_type": "execute_result",
          "data": {
            "text/plain": [
              "5"
            ]
          },
          "metadata": {
            "tags": []
          },
          "execution_count": 10
        }
      ]
    }
  ]
}