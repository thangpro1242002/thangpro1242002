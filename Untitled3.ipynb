{
  "nbformat": 4,
  "nbformat_minor": 0,
  "metadata": {
    "colab": {
      "name": "Untitled3.ipynb",
      "provenance": [],
      "authorship_tag": "ABX9TyNyuWNDm9HgUDtpUFL76AMf",
      "include_colab_link": true
    },
    "kernelspec": {
      "name": "python3",
      "display_name": "Python 3"
    }
  },
  "cells": [
    {
      "cell_type": "markdown",
      "metadata": {
        "id": "view-in-github",
        "colab_type": "text"
      },
      "source": [
        "<a href=\"https://colab.research.google.com/github/thangpro1242002/thangpro1242002/blob/main/Untitled3.ipynb\" target=\"_parent\"><img src=\"https://colab.research.google.com/assets/colab-badge.svg\" alt=\"Open In Colab\"/></a>"
      ]
    },
    {
      "cell_type": "code",
      "metadata": {
        "id": "RfsTaN2RwPul"
      },
      "source": [
        "\n"
      ],
      "execution_count": null,
      "outputs": []
    },
    {
      "cell_type": "markdown",
      "metadata": {
        "id": "a4ayOHmYzO7W"
      },
      "source": [
        ""
      ]
    },
    {
      "cell_type": "markdown",
      "metadata": {
        "id": "crl7zxM-24D1"
      },
      "source": [
        "Bài 2: Lập trình nhập vào từ bàn phím 2 số thực và tính:"
      ]
    },
    {
      "cell_type": "code",
      "metadata": {
        "id": "7vB9ZLln3A1T",
        "outputId": "bdb9f3a7-d65d-43ec-b775-8aa12bbda75f",
        "colab": {
          "base_uri": "https://localhost:8080/"
        }
      },
      "source": [
        "a=float(input(\"a= \"))\n",
        "b=float(input(\"b= \"))\n",
        "c=a+b\n",
        "print(\"a+b\",c)\n",
        "d=a*b\n",
        "print(\"a*b\",d)\n",
        "e=a-b\n",
        "print(\"a-b\",e)\n",
        "f=a/b\n",
        "print(\"a/b\",f)"
      ],
      "execution_count": 3,
      "outputs": [
        {
          "output_type": "stream",
          "text": [
            "a= 3\n",
            "b= 6\n",
            "a+b 9.0\n",
            "a*b 18.0\n",
            "a-b -3.0\n",
            "a/b 0.5\n"
          ],
          "name": "stdout"
        }
      ]
    },
    {
      "cell_type": "markdown",
      "metadata": {
        "id": "1RWcGUs-3gMk"
      },
      "source": [
        "Bài 3: (Sử dụng các hàm toán học) Nhập một số từ bàn phím và tính:"
      ]
    },
    {
      "cell_type": "code",
      "metadata": {
        "id": "X94jns_73iFM",
        "outputId": "db18ef5e-cc08-4667-8870-521b6f8bd777",
        "colab": {
          "base_uri": "https://localhost:8080/"
        }
      },
      "source": [
        "import math\n",
        "x= float(input('x= '))\n",
        "x=math.fabs(x) # để x có thể nhận được giá trị <0 khi thực hiện căn bậc 2\n",
        "print('giá trị tuyệt đối của số x: ',x)\n",
        "print('phần nguyên của giá trị tuyệt đối của số x: ', int(x))\n",
        "float(x)\n",
        "y= float(input('y= '))\n",
        "egg=x**y\n",
        "print('|x|^y= ',egg)\n",
        "sqrt_x= math.sqrt(x)\n",
        "sqrt_y= math.sqrt(y)\n",
        "sqrt_egg= math.sqrt(egg)\n",
        "print('căn bậc 2 của giá trị tuyệt đối x: ', sqrt_x)\n",
        "print('căn bậc 2 của y: ', sqrt_y)\n",
        "print('căn bậc 2 của x^y: ', sqrt_egg)"
      ],
      "execution_count": 6,
      "outputs": [
        {
          "output_type": "stream",
          "text": [
            "x= 3\n",
            "giá trị tuyệt đối của số x:  3.0\n",
            "phần nguyên của giá trị tuyệt đối của số x:  3\n",
            "y= 4\n",
            "|x|^y=  81.0\n",
            "căn bậc 2 của giá trị tuyệt đối x:  1.7320508075688772\n",
            "căn bậc 2 của y:  2.0\n",
            "căn bậc 2 của x^y:  9.0\n"
          ],
          "name": "stdout"
        }
      ]
    },
    {
      "cell_type": "markdown",
      "metadata": {
        "id": "x3RWBtdo_QWQ"
      },
      "source": [
        "Bài 4: Nhập 2 số từ bàn phím và thực hiện các phép so sánh sau giữa 2 số:\n",
        "\n"
      ]
    },
    {
      "cell_type": "code",
      "metadata": {
        "id": "e5vXew-__U4A",
        "outputId": "7f95a13a-94d6-4c20-e5eb-befb3a6fc77f",
        "colab": {
          "base_uri": "https://localhost:8080/"
        }
      },
      "source": [
        "print(3 >= 6)\n",
        "print(3 <= 6)\n",
        "print(3 > 6)\n",
        "print(3 < 6)\n",
        "print(3 != 6)\n",
        "a= True\n",
        "print(a)"
      ],
      "execution_count": 7,
      "outputs": [
        {
          "output_type": "stream",
          "text": [
            "False\n",
            "True\n",
            "False\n",
            "True\n",
            "True\n",
            "True\n"
          ],
          "name": "stdout"
        }
      ]
    },
    {
      "cell_type": "markdown",
      "metadata": {
        "id": "2poH2YRZ_k2P"
      },
      "source": [
        "Bài 5: Nhập 1 chuỗi ký tự từ bàn phím:\n"
      ]
    },
    {
      "cell_type": "code",
      "metadata": {
        "id": "maMcEjkI_2PH",
        "outputId": "72be491b-7ef9-4875-ef50-9670049b87c4",
        "colab": {
          "base_uri": "https://localhost:8080/"
        }
      },
      "source": [
        "some_string= input('nhập một chuỗi ký tự: ')\n",
        "print(some_string.upper())\n",
        "print(some_string.lower())"
      ],
      "execution_count": 8,
      "outputs": [
        {
          "output_type": "stream",
          "text": [
            "nhập một chuỗi ký tự: Hi Thang\n",
            "HI THANG\n",
            "hi thang\n"
          ],
          "name": "stdout"
        }
      ]
    },
    {
      "cell_type": "markdown",
      "metadata": {
        "id": "Y9hp1EL-AEP3"
      },
      "source": [
        "Bài 6: Xuất ra màn hình 1 chuỗi ký từ nằm trên nhiều hàng"
      ]
    },
    {
      "cell_type": "code",
      "metadata": {
        "id": "Z_PaESAiAFUY",
        "outputId": "34e3243d-4ba2-48f7-f73d-90a34524e104",
        "colab": {
          "base_uri": "https://localhost:8080/"
        }
      },
      "source": [
        "print('''Em ơi! Dẫu sống trăm năm\n",
        "Đến khi chết xuống, anh nằm không yên\n",
        "Bởi đời đẹp quá đi, em!\n",
        "Yêu rồi, yêu mãi, yêu thêm chẳng thừa\n",
        "Yêu đời biết mấy cho bưa\n",
        "Cả khi cay đắng đời chưa hết tình…\n",
        "Tiếng gà lại giục bình minh\n",
        "Đã yêu cuộc sống, nằm thinh được nào!\n",
        "Giản đơn chiếc áo mặc vào,\n",
        "Cởi ra còn nhớ, huống bao năm trường\n",
        "Yêu đời trong máu, trong xương\n",
        "Lòng anh hạt muối đại dương bồi hồi\n",
        "Quê anh cà nhút mặn mòi\n",
        "Sinh anh muối mặn yêu đời, đó em….''')"
      ],
      "execution_count": 9,
      "outputs": [
        {
          "output_type": "stream",
          "text": [
            "Em ơi! Dẫu sống trăm năm\n",
            "Đến khi chết xuống, anh nằm không yên\n",
            "Bởi đời đẹp quá đi, em!\n",
            "Yêu rồi, yêu mãi, yêu thêm chẳng thừa\n",
            "Yêu đời biết mấy cho bưa\n",
            "Cả khi cay đắng đời chưa hết tình…\n",
            "Tiếng gà lại giục bình minh\n",
            "Đã yêu cuộc sống, nằm thinh được nào!\n",
            "Giản đơn chiếc áo mặc vào,\n",
            "Cởi ra còn nhớ, huống bao năm trường\n",
            "Yêu đời trong máu, trong xương\n",
            "Lòng anh hạt muối đại dương bồi hồi\n",
            "Quê anh cà nhút mặn mòi\n",
            "Sinh anh muối mặn yêu đời, đó em….\n"
          ],
          "name": "stdout"
        }
      ]
    },
    {
      "cell_type": "markdown",
      "metadata": {
        "id": "b5AmdGtgzAZe"
      },
      "source": [
        ""
      ]
    },
    {
      "cell_type": "markdown",
      "metadata": {
        "id": "da8TvEG9y3jB"
      },
      "source": [
        ""
      ]
    },
    {
      "cell_type": "markdown",
      "metadata": {
        "id": "AvrI-L4AzRmG"
      },
      "source": [
        "Bài 1: Lập trình nhập vào từ bàn phím 2 số nguyên và tính:"
      ]
    },
    {
      "cell_type": "code",
      "metadata": {
        "id": "b9gfRoLK0zjt",
        "outputId": "a004eb21-c70e-4516-95c3-d9f670c92d7e",
        "colab": {
          "base_uri": "https://localhost:8080/"
        }
      },
      "source": [
        "a=int( input(\" a= \"))\n",
        "b=int( input(\" b= \"))\n",
        "c=a+b\n",
        "print(\"a+b\",c)\n",
        "d=a*b\n",
        "print(\"a*b\",d)\n",
        "e=a-b\n",
        "print(\"a-b\",e)\n",
        "f=a%b\n",
        "print(\"a%b\",f)\n",
        "g=a//b\n",
        "print(\"a//b\",g)"
      ],
      "execution_count": 1,
      "outputs": [
        {
          "output_type": "stream",
          "text": [
            " a= 4\n",
            " b= 5\n",
            "a+b 9\n",
            "a*b 20\n",
            "a-b -1\n",
            "a%b 4\n",
            "a//b 0\n"
          ],
          "name": "stdout"
        }
      ]
    }
  ]
}