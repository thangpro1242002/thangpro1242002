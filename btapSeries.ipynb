{
  "nbformat": 4,
  "nbformat_minor": 0,
  "metadata": {
    "colab": {
      "name": "btapSeries.ipynb",
      "provenance": [],
      "collapsed_sections": [],
      "authorship_tag": "ABX9TyO9b+QNacF70Jbzghf05y5a",
      "include_colab_link": true
    },
    "kernelspec": {
      "name": "python3",
      "display_name": "Python 3"
    }
  },
  "cells": [
    {
      "cell_type": "markdown",
      "metadata": {
        "id": "view-in-github",
        "colab_type": "text"
      },
      "source": [
        "<a href=\"https://colab.research.google.com/github/thangpro1242002/thangpro1242002/blob/main/btapSeries.ipynb\" target=\"_parent\"><img src=\"https://colab.research.google.com/assets/colab-badge.svg\" alt=\"Open In Colab\"/></a>"
      ]
    },
    {
      "cell_type": "code",
      "metadata": {
        "id": "OiHg0tUwiEeP"
      },
      "source": [
        "import pandas as pd\r\n",
        "import numpy as np\r\n"
      ],
      "execution_count": 2,
      "outputs": []
    },
    {
      "cell_type": "markdown",
      "metadata": {
        "id": "K8iogURMiMMY"
      },
      "source": [
        "Câu 1: Hãy tạo 1 đối tượng kiểu Series có tối thiểu 10 phần tử (kiểu số) với giá trị tùy ý thích của bạn. In giá trị của Series đó ra màn hình"
      ]
    },
    {
      "cell_type": "code",
      "metadata": {
        "colab": {
          "base_uri": "https://localhost:8080/"
        },
        "id": "pZey95_ziRxw",
        "outputId": "7fbc9381-c4cd-4343-fdd7-49782c1316d1"
      },
      "source": [
        "series = pd.Series([12, 5, 23, 8, 25, 5, 87, 22, 12, 13])\r\n",
        "series"
      ],
      "execution_count": 31,
      "outputs": [
        {
          "output_type": "execute_result",
          "data": {
            "text/plain": [
              "0    12\n",
              "1     5\n",
              "2    23\n",
              "3     8\n",
              "4    25\n",
              "5     5\n",
              "6    87\n",
              "7    22\n",
              "8    12\n",
              "9    13\n",
              "dtype: int64"
            ]
          },
          "metadata": {
            "tags": []
          },
          "execution_count": 31
        }
      ]
    },
    {
      "cell_type": "markdown",
      "metadata": {
        "id": "TLGAMRJTh-mS"
      },
      "source": [
        "Câu 2: Hãy tạo 1 đối tượng kiểu Series với giá trị khởi tạo hình thành từ dữ liệu kiểu Dictionary. In kết quả ra màn hình"
      ]
    },
    {
      "cell_type": "code",
      "metadata": {
        "colab": {
          "base_uri": "https://localhost:8080/"
        },
        "id": "QeVROpEMi4iV",
        "outputId": "7bedfd5b-3959-424d-ecf8-eef9743bf31a"
      },
      "source": [
        "series1 = pd.Series({'faker':10,'uzi':8,'marin':8,'wolf':7,'bang':6,'bengi':7})\r\n",
        "series1"
      ],
      "execution_count": 14,
      "outputs": [
        {
          "output_type": "execute_result",
          "data": {
            "text/plain": [
              "faker    10\n",
              "uzi       8\n",
              "marin     8\n",
              "wolf      7\n",
              "bang      6\n",
              "bengi     7\n",
              "dtype: int64"
            ]
          },
          "metadata": {
            "tags": []
          },
          "execution_count": 14
        }
      ]
    },
    {
      "cell_type": "markdown",
      "metadata": {
        "id": "udYIROUcotru"
      },
      "source": [
        "Câu 3: Sử dụng series ở câu 1, hãy thay đổi giá trị của cột index từ kiểu số theo kiểu ký tự với giá trị do bạn tự xác định."
      ]
    },
    {
      "cell_type": "code",
      "metadata": {
        "colab": {
          "base_uri": "https://localhost:8080/"
        },
        "id": "xRSr9haxoxwV",
        "outputId": "b0353412-3f27-43be-8f0f-2159e3d88658"
      },
      "source": [
        "my_series = pd.Series([12, 5, 23, 8, 25, 5, 87, 22, 12, 13],index=['A1', 'B2', 'C1', 'D1', 'E2', 'F1', 'G2', 'H1', 'I2', 'J2'])\r\n",
        "my_series"
      ],
      "execution_count": 23,
      "outputs": [
        {
          "output_type": "execute_result",
          "data": {
            "text/plain": [
              "A1    12\n",
              "B2     5\n",
              "C1    23\n",
              "D1     8\n",
              "E2    25\n",
              "F1     5\n",
              "G2    87\n",
              "H1    22\n",
              "I2    12\n",
              "J2    13\n",
              "dtype: int64"
            ]
          },
          "metadata": {
            "tags": []
          },
          "execution_count": 23
        }
      ]
    },
    {
      "cell_type": "markdown",
      "metadata": {
        "id": "-ph7MBO9s5eG"
      },
      "source": [
        "Câu 4: Sử dụng series ở câu 2, hãy truy cập đến phần tử thứ 5 và in ra màn hình"
      ]
    },
    {
      "cell_type": "code",
      "metadata": {
        "colab": {
          "base_uri": "https://localhost:8080/"
        },
        "id": "rxwgW_jOu98L",
        "outputId": "ad6a80b9-b03f-45e7-b6fa-56b0a2c23bfa"
      },
      "source": [
        "series1[4]\r\n"
      ],
      "execution_count": 17,
      "outputs": [
        {
          "output_type": "execute_result",
          "data": {
            "text/plain": [
              "6"
            ]
          },
          "metadata": {
            "tags": []
          },
          "execution_count": 17
        }
      ]
    },
    {
      "cell_type": "markdown",
      "metadata": {
        "id": "MmgYpuAo01As"
      },
      "source": [
        "Câu 5: Sử dụng series ở câu 3, hãy truy cập đến 1 phần tử dựa theo chỉ số kiểu ký tự do bạn lựa chọn và in ra màn hình"
      ]
    },
    {
      "cell_type": "code",
      "metadata": {
        "id": "VTVc6_lv03gx",
        "colab": {
          "base_uri": "https://localhost:8080/"
        },
        "outputId": "7b3d7c55-388d-443a-9813-c3a83e96bbfe"
      },
      "source": [
        "my_series['b']"
      ],
      "execution_count": 18,
      "outputs": [
        {
          "output_type": "execute_result",
          "data": {
            "text/plain": [
              "5"
            ]
          },
          "metadata": {
            "tags": []
          },
          "execution_count": 18
        }
      ]
    },
    {
      "cell_type": "markdown",
      "metadata": {
        "id": "g_dsFcut0_M5"
      },
      "source": [
        "Câu 6: Sử dụng series ở câu 3, hãy tìm ra tính chất đặc thù trong các chỉ số kiểu kí tự, thực hiện vòng lặp for duyệt trên các chỉ mục kiểu kí tự này để lọc ra những phần tử thỏa mãn điều kiện và in ra màn hình"
      ]
    },
    {
      "cell_type": "code",
      "metadata": {
        "id": "3atXolg81AGo",
        "colab": {
          "base_uri": "https://localhost:8080/"
        },
        "outputId": "dacab227-78f1-448a-bfa4-b96f1209b6ab"
      },
      "source": [
        "my_series[[name.endswith('2') for name in my_series.index]]"
      ],
      "execution_count": 29,
      "outputs": [
        {
          "output_type": "execute_result",
          "data": {
            "text/plain": [
              "B2     5\n",
              "E2    25\n",
              "G2    87\n",
              "I2    12\n",
              "J2    13\n",
              "dtype: int64"
            ]
          },
          "metadata": {
            "tags": []
          },
          "execution_count": 29
        }
      ]
    },
    {
      "cell_type": "markdown",
      "metadata": {
        "id": "OagxFRQb3AxK"
      },
      "source": [
        "Câu 7: Sử dụng series ở câu 1, hãy đổi tên cột index thành 'STT' và đặt tên cho series là 'Gia_tri'. In kết quả ra màn hình"
      ]
    },
    {
      "cell_type": "code",
      "metadata": {
        "colab": {
          "base_uri": "https://localhost:8080/"
        },
        "id": "nej8md6v3G53",
        "outputId": "4f86dfb8-c77a-4ea7-c58c-d57ccb47911b"
      },
      "source": [
        "series.name = 'Gia_tri'\r\n",
        "series.index.name = 'STT'\r\n",
        "series"
      ],
      "execution_count": 32,
      "outputs": [
        {
          "output_type": "execute_result",
          "data": {
            "text/plain": [
              "STT\n",
              "0    12\n",
              "1     5\n",
              "2    23\n",
              "3     8\n",
              "4    25\n",
              "5     5\n",
              "6    87\n",
              "7    22\n",
              "8    12\n",
              "9    13\n",
              "Name: Gia_tri, dtype: int64"
            ]
          },
          "metadata": {
            "tags": []
          },
          "execution_count": 32
        }
      ]
    },
    {
      "cell_type": "markdown",
      "metadata": {
        "id": "VtU7AkJ_4hUI"
      },
      "source": [
        "Câu 8: Hãy áp dụng hàm logarith của gói numpy với series ở câu 1 và in kết quả ra màn hình\r\n",
        "\r\n",
        "\r\n"
      ]
    },
    {
      "cell_type": "code",
      "metadata": {
        "colab": {
          "base_uri": "https://localhost:8080/"
        },
        "id": "s9bKpKYb4nPv",
        "outputId": "588b9509-b876-498d-e73b-074207135f7c"
      },
      "source": [
        "np.log(series)"
      ],
      "execution_count": 33,
      "outputs": [
        {
          "output_type": "execute_result",
          "data": {
            "text/plain": [
              "STT\n",
              "0    2.484907\n",
              "1    1.609438\n",
              "2    3.135494\n",
              "3    2.079442\n",
              "4    3.218876\n",
              "5    1.609438\n",
              "6    4.465908\n",
              "7    3.091042\n",
              "8    2.484907\n",
              "9    2.564949\n",
              "Name: Gia_tri, dtype: float64"
            ]
          },
          "metadata": {
            "tags": []
          },
          "execution_count": 33
        }
      ]
    },
    {
      "cell_type": "markdown",
      "metadata": {
        "id": "_oZj5aTw8pRu"
      },
      "source": [
        "Câu 9: Lọc các giá trị của series 1 > 15 và in ra màn hình"
      ]
    },
    {
      "cell_type": "code",
      "metadata": {
        "colab": {
          "base_uri": "https://localhost:8080/"
        },
        "id": "ApbTycvB8sae",
        "outputId": "901e01c8-069a-449f-e049-13a901a6caad"
      },
      "source": [
        "series[series > 15]"
      ],
      "execution_count": 34,
      "outputs": [
        {
          "output_type": "execute_result",
          "data": {
            "text/plain": [
              "STT\n",
              "2    23\n",
              "4    25\n",
              "6    87\n",
              "7    22\n",
              "Name: Gia_tri, dtype: int64"
            ]
          },
          "metadata": {
            "tags": []
          },
          "execution_count": 34
        }
      ]
    }
  ]
}