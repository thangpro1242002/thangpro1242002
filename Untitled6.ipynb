{
  "nbformat": 4,
  "nbformat_minor": 0,
  "metadata": {
    "colab": {
      "name": "Untitled6.ipynb",
      "provenance": [],
      "authorship_tag": "ABX9TyOu2e1VuJ2NN4Sg31ji/IrW",
      "include_colab_link": true
    },
    "kernelspec": {
      "name": "python3",
      "display_name": "Python 3"
    }
  },
  "cells": [
    {
      "cell_type": "markdown",
      "metadata": {
        "id": "view-in-github",
        "colab_type": "text"
      },
      "source": [
        "<a href=\"https://colab.research.google.com/github/thangpro1242002/thangpro1242002/blob/main/Untitled6.ipynb\" target=\"_parent\"><img src=\"https://colab.research.google.com/assets/colab-badge.svg\" alt=\"Open In Colab\"/></a>"
      ]
    },
    {
      "cell_type": "code",
      "metadata": {
        "id": "WSRMU2k4UOBL"
      },
      "source": [
        ""
      ],
      "execution_count": null,
      "outputs": []
    },
    {
      "cell_type": "markdown",
      "metadata": {
        "id": "_vTXDRW5UPCR"
      },
      "source": [
        "Bài 1: Có thể chuyển câu lệnh lặp không xác định bằng vòng lặp While sang vòng lặp For có được không?"
      ]
    },
    {
      "cell_type": "markdown",
      "metadata": {
        "id": "eKXLLpKCUan2"
      },
      "source": [
        " Có thể chuyển câu lệnh lặp không xác định bằng vòng lặp While sang vòng lặp For"
      ]
    },
    {
      "cell_type": "code",
      "metadata": {
        "colab": {
          "base_uri": "https://localhost:8080/"
        },
        "id": "k4ujma8QUc-_",
        "outputId": "34527164-0698-4e40-ffa8-e7629e5a8396"
      },
      "source": [
        "print(\"Mr Thang\") \n",
        "x = [\"1\",\"2\",\"3\",\"4\",\"5\",\"6\",\"7\",\"8\",\"9\"]\n",
        "for x in range(1,10,2):\n",
        "       print(x) "
      ],
      "execution_count": 1,
      "outputs": [
        {
          "output_type": "stream",
          "text": [
            "Mr Thang\n",
            "1\n",
            "3\n",
            "5\n",
            "7\n",
            "9\n"
          ],
          "name": "stdout"
        }
      ]
    },
    {
      "cell_type": "markdown",
      "metadata": {
        "id": "Z_U6fzh6UT0P"
      },
      "source": [
        ""
      ]
    }
  ]
}