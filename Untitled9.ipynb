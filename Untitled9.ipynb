{
  "nbformat": 4,
  "nbformat_minor": 0,
  "metadata": {
    "colab": {
      "name": "Untitled9.ipynb",
      "provenance": [],
      "authorship_tag": "ABX9TyNTDpfLzXhCteluaEGkKveD",
      "include_colab_link": true
    },
    "kernelspec": {
      "name": "python3",
      "display_name": "Python 3"
    }
  },
  "cells": [
    {
      "cell_type": "markdown",
      "metadata": {
        "id": "view-in-github",
        "colab_type": "text"
      },
      "source": [
        "<a href=\"https://colab.research.google.com/github/thangpro1242002/thangpro1242002/blob/main/Untitled9.ipynb\" target=\"_parent\"><img src=\"https://colab.research.google.com/assets/colab-badge.svg\" alt=\"Open In Colab\"/></a>"
      ]
    },
    {
      "cell_type": "code",
      "metadata": {
        "id": "cvhvRFzKJxA4"
      },
      "source": [
        "import smtplib\n",
        "from email.mime.multipart import MIMEMultipart\n",
        "from email.mime.text import MIMEText\n",
        "n = int(input(\"nhập n =\"))\n",
        "for i in range(n):\n",
        " fromaddr = \"tha1242002@gmail.com\"\n",
        " toaddr = \"nguyenhuukieutrinh@gmail.com\"\n",
        " msg = MIMEMultipart()\n",
        " msg['From'] = fromaddr\n",
        " msg['To'] = toaddr\n",
        " msg['Subject'] = \"Chào chi :3\"\n",
        " body = \"Em yêu chị \"\n",
        " msg.attach(MIMEText(body, 'plain'))\n",
        " server = smtplib.SMTP('smtp.gmail.com', 587)\n",
        " server.starttls()\n",
        " server.login(fromaddr, \"thang1242002\")\n",
        " text = msg.as_string()\n",
        " server.sendmail(fromaddr, toaddr, text)\n",
        " server.quit()"
      ],
      "execution_count": null,
      "outputs": []
    }
  ]
}