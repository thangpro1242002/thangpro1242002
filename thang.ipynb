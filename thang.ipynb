{
  "nbformat": 4,
  "nbformat_minor": 0,
  "metadata": {
    "colab": {
      "name": "Untitled2.ipynb",
      "provenance": [],
      "collapsed_sections": [],
      "authorship_tag": "ABX9TyMvC3H9pjq7qO5B/JA9tXW1",
      "include_colab_link": true
    },
    "kernelspec": {
      "name": "python3",
      "display_name": "Python 3"
    }
  },
  "cells": [
    {
      "cell_type": "markdown",
      "metadata": {
        "id": "view-in-github",
        "colab_type": "text"
      },
      "source": [
        "<a href=\"https://colab.research.google.com/github/thangpro1242002/thangpro1242002/blob/main/thang.ipynb\" target=\"_parent\"><img src=\"https://colab.research.google.com/assets/colab-badge.svg\" alt=\"Open In Colab\"/></a>"
      ]
    },
    {
      "cell_type": "code",
      "metadata": {
        "id": "QTaNZhZucn1I"
      },
      "source": [
        "from bs4 import BeautifulSoup\r\n",
        "import requests\r\n",
        "import os"
      ],
      "execution_count": 14,
      "outputs": []
    },
    {
      "cell_type": "markdown",
      "metadata": {
        "id": "GknAsqftcyKO"
      },
      "source": [
        "#1Cách lấy 1 phần tử đầu tiên ra khỏi list và xóa nó khỏi list"
      ]
    },
    {
      "cell_type": "code",
      "metadata": {
        "id": "GEnDk2aic2PX",
        "colab": {
          "base_uri": "https://localhost:8080/"
        },
        "outputId": "f169711c-f04e-49db-eea8-5e9b620858e9"
      },
      "source": [
        "url_list=['https://vietnamnet.vn/']\r\n",
        "url=url_list.pop(0)\r\n",
        "print(url_list)"
      ],
      "execution_count": 22,
      "outputs": [
        {
          "output_type": "stream",
          "text": [
            "[]\n"
          ],
          "name": "stdout"
        }
      ]
    },
    {
      "cell_type": "markdown",
      "metadata": {
        "id": "xw9rOndhcjVn"
      },
      "source": [
        "# 2 Tải 1 url về"
      ]
    },
    {
      "cell_type": "code",
      "metadata": {
        "id": "cpALt2bfdFnW"
      },
      "source": [
        "page=requests.get(url)\r\n",
        "a=BeautifulSoup(page.text,\"html.parser\")\r\n",
        "html=a.prettify()\r\n",
        "print(html)"
      ],
      "execution_count": null,
      "outputs": []
    },
    {
      "cell_type": "markdown",
      "metadata": {
        "id": "vqZUpImxco0f"
      },
      "source": [
        "#3 Lưu 1 html vào thư mục chỉ định"
      ]
    },
    {
      "cell_type": "code",
      "metadata": {
        "id": "pFJfwNN9cxS3"
      },
      "source": [
        "b=open(\"filehtm3\",\"x\")\r\n",
        "b.write(html)\r\n",
        "b.close()"
      ],
      "execution_count": null,
      "outputs": []
    },
    {
      "cell_type": "markdown",
      "metadata": {
        "id": "C3mgwrUPc4XG"
      },
      "source": [
        "#4 Cách lấy các url trong html"
      ]
    },
    {
      "cell_type": "code",
      "metadata": {
        "id": "vr_YEFkCc8fv"
      },
      "source": [
        "for i in soup.findAll('a'):\r\n",
        "    link=i.get(\"href\")\r\n",
        "    if str(link)[0:5] == 'https' and link.count(\".html\") != 0 and link.count(\".jdg\")==0 and link.count(\".mp3\") == 0:\r\n",
        "        url_list.append(link)\r\n",
        "print(url_list)\r\n"
      ],
      "execution_count": null,
      "outputs": []
    }
  ]
}