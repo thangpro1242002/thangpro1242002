{
  "nbformat": 4,
  "nbformat_minor": 0,
  "metadata": {
    "colab": {
      "name": "Untitled5.ipynb",
      "provenance": [],
      "authorship_tag": "ABX9TyMAanqvCm42rQM6SCkqQAW1",
      "include_colab_link": true
    },
    "kernelspec": {
      "name": "python3",
      "display_name": "Python 3"
    }
  },
  "cells": [
    {
      "cell_type": "markdown",
      "metadata": {
        "id": "view-in-github",
        "colab_type": "text"
      },
      "source": [
        "<a href=\"https://colab.research.google.com/github/thangpro1242002/thangpro1242002/blob/main/Untitled5.ipynb\" target=\"_parent\"><img src=\"https://colab.research.google.com/assets/colab-badge.svg\" alt=\"Open In Colab\"/></a>"
      ]
    },
    {
      "cell_type": "code",
      "metadata": {
        "id": "noxp8vFHBrMY"
      },
      "source": [
        ""
      ],
      "execution_count": null,
      "outputs": []
    },
    {
      "cell_type": "markdown",
      "metadata": {
        "id": "j-BKESdbBrwx"
      },
      "source": [
        "Câu 2: Hãy chuyển một vòng lặp xác định từ while sang for: Viết chương trình lặp giải phương trình bậc nhất n lần với các tham số nhập vào từ bàn phím.\n"
      ]
    },
    {
      "cell_type": "markdown",
      "metadata": {
        "id": "aXsEVWjUBwvY"
      },
      "source": [
        "Với While:"
      ]
    },
    {
      "cell_type": "code",
      "metadata": {
        "colab": {
          "base_uri": "https://localhost:8080/"
        },
        "id": "TXpTW0ltB0oY",
        "outputId": "bbe38bbf-a3b2-490c-cc94-8d50072bb6dd"
      },
      "source": [
        "print (\" giải phuong trinh bậc nhất ax+b=0\")\n",
        "n= int(input (\"nhập số phuong trinh cần giải: \"))\n",
        "while n >0:\n",
        "    a=float (input (\"a= \"))\n",
        "    b=float (input (\"b= \"))\n",
        "    print (\"=> x= \",-b/a)\n",
        "    n= n-1"
      ],
      "execution_count": 1,
      "outputs": [
        {
          "output_type": "stream",
          "text": [
            " giải phuong trinh bậc nhất ax+b=0\n",
            "nhập số phuong trinh cần giải: 3\n",
            "a= 2\n",
            "b= 3\n",
            "=> x=  -1.5\n",
            "a= 5\n",
            "b= 4\n",
            "=> x=  -0.8\n",
            "a= 4\n",
            "b= 3\n",
            "=> x=  -0.75\n"
          ],
          "name": "stdout"
        }
      ]
    },
    {
      "cell_type": "markdown",
      "metadata": {
        "id": "USuNslUCCSXR"
      },
      "source": [
        "Chuyển sang for:"
      ]
    },
    {
      "cell_type": "code",
      "metadata": {
        "colab": {
          "base_uri": "https://localhost:8080/"
        },
        "id": "JY9Wp6rYCZ8x",
        "outputId": "4e4bd2fe-6a02-4f27-d03a-631d82c6639f"
      },
      "source": [
        "print (\" giải phuong trinh bậc nhất ax+b=0\")\n",
        "n= int(input (\"nhập số phuong trinh cần giải: \"))\n",
        "for i in range (n):\n",
        "    a=float (input (\"a= \"))\n",
        "    b=float (input (\"b= \"))\n",
        "    print (\"=> x= \",-b/a)"
      ],
      "execution_count": 5,
      "outputs": [
        {
          "output_type": "stream",
          "text": [
            " giải phuong trinh bậc nhất ax+b=0\n",
            "nhập số phuong trinh cần giải: 3\n",
            "a= 9\n",
            "b= 5\n",
            "=> x=  -0.5555555555555556\n",
            "a= 4\n",
            "b= 5\n",
            "=> x=  -1.25\n",
            "a= 6\n",
            "b= 4\n",
            "=> x=  -0.6666666666666666\n"
          ],
          "name": "stdout"
        }
      ]
    }
  ]
}