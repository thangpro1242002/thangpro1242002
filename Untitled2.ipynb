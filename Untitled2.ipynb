{
  "nbformat": 4,
  "nbformat_minor": 0,
  "metadata": {
    "colab": {
      "name": "Untitled2.ipynb",
      "provenance": [],
      "collapsed_sections": [],
      "authorship_tag": "ABX9TyMvC3H9pjq7qO5B/JA9tXW1",
      "include_colab_link": true
    },
    "kernelspec": {
      "name": "python3",
      "display_name": "Python 3"
    }
  },
  "cells": [
    {
      "cell_type": "markdown",
      "metadata": {
        "id": "view-in-github",
        "colab_type": "text"
      },
      "source": [
        "<a href=\"https://colab.research.google.com/github/thangpro1242002/thangpro1242002/blob/main/Untitled2.ipynb\" target=\"_parent\"><img src=\"https://colab.research.google.com/assets/colab-badge.svg\" alt=\"Open In Colab\"/></a>"
      ]
    },
    {
      "cell_type": "code",
      "metadata": {
        "id": "QTaNZhZucn1I"
      },
      "source": [
        "from bs4 import BeautifulSoup\r\n",
        "import requests\r\n",
        "import os"
      ],
      "execution_count": 14,
      "outputs": []
    },
    {
      "cell_type": "markdown",
      "metadata": {
        "id": "GknAsqftcyKO"
      },
      "source": [
        "#1Cách lấy 1 phần tử đầu tiên ra khỏi list và xóa nó khỏi list"
      ]
    },
    {
      "cell_type": "code",
      "metadata": {
        "id": "GEnDk2aic2PX",
        "colab": {
          "base_uri": "https://localhost:8080/"
        },
        "outputId": "f169711c-f04e-49db-eea8-5e9b620858e9"
      },
      "source": [
        "url_list=['https://vietnamnet.vn/']\r\n",
        "url=url_list.pop(0)\r\n",
        "print(url_list)"
      ],
      "execution_count": 22,
      "outputs": [
        {
          "output_type": "stream",
          "text": [
            "[]\n"
          ],
          "name": "stdout"
        }
      ]
    },
    {
      "cell_type": "markdown",
      "metadata": {
        "id": "xw9rOndhcjVn"
      },
      "source": [
        "# 2 Tải 1 url về"
      ]
    },
    {
      "cell_type": "code",
      "metadata": {
        "id": "cpALt2bfdFnW"
      },
      "source": [
        "page=requests.get(url)\r\n",
        "a=BeautifulSoup(page.text,\"html.parser\")\r\n",
        "html=a.prettify()\r\n",
        "print(html)"
      ],
      "execution_count": null,
      "outputs": []
    },
    {
      "cell_type": "markdown",
      "metadata": {
        "id": "vqZUpImxco0f"
      },
      "source": [
        "#3 Lưu 1 html vào thư mục chỉ định"
      ]
    },
    {
      "cell_type": "code",
      "metadata": {
        "id": "pFJfwNN9cxS3",
        "colab": {
          "base_uri": "https://localhost:8080/",
          "height": 197
        },
        "outputId": "9896af34-efa2-461b-b848-9440f222617f"
      },
      "source": [
        "b=open(\"filehtm3\",\"x\")\r\n",
        "b.write(html)\r\n",
        "b.close()"
      ],
      "execution_count": 17,
      "outputs": [
        {
          "output_type": "error",
          "ename": "FileExistsError",
          "evalue": "ignored",
          "traceback": [
            "\u001b[0;31m---------------------------------------------------------------------------\u001b[0m",
            "\u001b[0;31mFileExistsError\u001b[0m                           Traceback (most recent call last)",
            "\u001b[0;32m<ipython-input-17-b6e116ef8a3e>\u001b[0m in \u001b[0;36m<module>\u001b[0;34m()\u001b[0m\n\u001b[0;32m----> 1\u001b[0;31m \u001b[0mb\u001b[0m\u001b[0;34m=\u001b[0m\u001b[0mopen\u001b[0m\u001b[0;34m(\u001b[0m\u001b[0;34m\"filehtm3\"\u001b[0m\u001b[0;34m,\u001b[0m\u001b[0;34m\"x\"\u001b[0m\u001b[0;34m)\u001b[0m\u001b[0;34m\u001b[0m\u001b[0;34m\u001b[0m\u001b[0m\n\u001b[0m\u001b[1;32m      2\u001b[0m \u001b[0mb\u001b[0m\u001b[0;34m.\u001b[0m\u001b[0mwrite\u001b[0m\u001b[0;34m(\u001b[0m\u001b[0mhtml\u001b[0m\u001b[0;34m)\u001b[0m\u001b[0;34m\u001b[0m\u001b[0;34m\u001b[0m\u001b[0m\n\u001b[1;32m      3\u001b[0m \u001b[0mb\u001b[0m\u001b[0;34m.\u001b[0m\u001b[0mclose\u001b[0m\u001b[0;34m(\u001b[0m\u001b[0;34m)\u001b[0m\u001b[0;34m\u001b[0m\u001b[0;34m\u001b[0m\u001b[0m\n",
            "\u001b[0;31mFileExistsError\u001b[0m: [Errno 17] File exists: 'filehtm3'"
          ]
        }
      ]
    },
    {
      "cell_type": "markdown",
      "metadata": {
        "id": "C3mgwrUPc4XG"
      },
      "source": [
        "#4 Cách lấy các url trong html"
      ]
    },
    {
      "cell_type": "code",
      "metadata": {
        "colab": {
          "base_uri": "https://localhost:8080/"
        },
        "id": "vr_YEFkCc8fv",
        "outputId": "2235ea34-12f0-4955-b6ff-5319ff1b6e49"
      },
      "source": [
        "for i in soup.findAll('a'):\r\n",
        "    link=i.get(\"href\")\r\n",
        "    if str(link)[0:5] == 'https' and link.count(\".html\") != 0 and link.count(\".jdg\")==0 and link.count(\".mp3\") == 0:\r\n",
        "        url_list.append(link)\r\n",
        "print(url_list)\r\n"
      ],
      "execution_count": 25,
      "outputs": [
        {
          "output_type": "stream",
          "text": [
            "['https://id.vietnamnet.vn/Home.html', 'https://infonet.vietnamnet.vn/doi-song/doi-thuong/ca-lang-o-nghe-an-keo-di-nuoc-ngoai-lam-an-gui-tien-ti-ve-xay-biet-thu-274786.html?fbclid=IwAR2d2XfTx6Yk6TUeGe1H4f9f-Uo3kO4gxwU7X7IJWr-vJFyLmhA-xVxhFUo', 'https://2sao.vn/ngoc-trinh-hon-moi-be-trai-giua-su-kien-n-248349.html', 'https://2sao.vn/ngoc-trinh-hon-moi-be-trai-giua-su-kien-n-248349.html', 'https://2sao.vn/xot-xa-em-be-vung-cao-mat-do-ngau-vi-lanh-n-248380.html', 'https://tintuconline.com.vn/sao/vo-van-quang-long-chinh-thuc-len-tieng-sau-on-ao-khong-dam-ra-duong-gap-ai-n-466318.html', 'https://tintuconline.com.vn/sao/vo-van-quang-long-chinh-thuc-len-tieng-sau-on-ao-khong-dam-ra-duong-gap-ai-n-466318.html', 'https://tintuconline.com.vn/tam-su/nhin-tam-lung-tran-cua-vo-cu-chong-khien-toi-huy-hon-ngay-n-466294.html']\n"
          ],
          "name": "stdout"
        }
      ]
    }
  ]
}