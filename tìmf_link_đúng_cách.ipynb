{
  "nbformat": 4,
  "nbformat_minor": 0,
  "metadata": {
    "colab": {
      "name": "tìmf link đúng cách.ipynb",
      "provenance": [],
      "authorship_tag": "ABX9TyMV5YmXL7aZaLOSjrfQUXHm",
      "include_colab_link": true
    },
    "kernelspec": {
      "name": "python3",
      "display_name": "Python 3"
    }
  },
  "cells": [
    {
      "cell_type": "markdown",
      "metadata": {
        "id": "view-in-github",
        "colab_type": "text"
      },
      "source": [
        "<a href=\"https://colab.research.google.com/github/thangpro1242002/thangpro1242002/blob/main/t%C3%ACmf_link_%C4%91%C3%BAng_c%C3%A1ch.ipynb\" target=\"_parent\"><img src=\"https://colab.research.google.com/assets/colab-badge.svg\" alt=\"Open In Colab\"/></a>"
      ]
    },
    {
      "cell_type": "code",
      "metadata": {
        "id": "2fjSJAasHR17"
      },
      "source": [
        "Để tìm đoạn link đúng dạng ta dùng thư viện: re và BeautifulSoup."
      ],
      "execution_count": null,
      "outputs": []
    },
    {
      "cell_type": "code",
      "metadata": {
        "id": "lLQy_095HXvU"
      },
      "source": [
        "import re\r\n",
        "import requests\r\n",
        "from bs4 import BeautifulSoup"
      ],
      "execution_count": 1,
      "outputs": []
    },
    {
      "cell_type": "code",
      "metadata": {
        "id": "x7WwVIFRHfv8"
      },
      "source": [
        "link = requests.get('https://vietnamnet.vn/')"
      ],
      "execution_count": 2,
      "outputs": []
    },
    {
      "cell_type": "markdown",
      "metadata": {
        "id": "4S_PsNfGHjs8"
      },
      "source": [
        "Đưa mã HTML vừa được request về dạng đẹp với lệnh"
      ]
    },
    {
      "cell_type": "code",
      "metadata": {
        "id": "-0277LVcHoBD"
      },
      "source": [
        "link_soup = BeautifulSoup(link.text,'html.parser')"
      ],
      "execution_count": 4,
      "outputs": []
    },
    {
      "cell_type": "markdown",
      "metadata": {
        "id": "AXbW88x9HvuF"
      },
      "source": [
        "Tìm tới những chỗ nào mà thẻ a href được đặc tên, vì thẻ này sẽ được đặc tên khác nhau tùy từng trang"
      ]
    },
    {
      "cell_type": "code",
      "metadata": {
        "colab": {
          "base_uri": "https://localhost:8080/"
        },
        "id": "q2hay7exH1NU",
        "outputId": "db4516c8-09aa-412b-98f5-8941fc077167"
      },
      "source": [
        "results = link_soup('a', attrs={'href':True})\r\n",
        "results[0:10]"
      ],
      "execution_count": 5,
      "outputs": [
        {
          "output_type": "execute_result",
          "data": {
            "text/plain": [
              "[<a href=\"/\"><img alt=\"Báo VietNamNet - Đọc báo Online, Tin nhanh trong ngày\" src=\"https://vnn-res.vgcloud.vn/ResV9/event/tet-2020-logo.svg\"/></a>,\n",
              " <a class=\"pos-rel hottag tag2 m-r-10\" href=\"  https://vietnamnet.vn/vn/tet-nguyen-dan/\">#TếtNguyênĐán</a>,\n",
              " <a class=\"pos-rel hottag \" href=\"https://vietnamnet.vn/vn/dai-hoi-dang-lan-thu-xiii/\" target=\"_blank\">#Đại Hội Đảng XIII</a>,\n",
              " <a class=\"button-image d-ib search-button\" href=\"#\" title=\"Tìm kiếm\"><span>Go</span></a>,\n",
              " <a class=\"button-hot bg-red t-c t-u d-b c-fff opa-7\" href=\"/vn/tin-moi-nong/\" title=\"Tin nóng\">Tin nóng</a>,\n",
              " <a class=\"button-hot btn-blue bg-blu t-c t-u d-b c-fff opa-7\" href=\"/vn/tin-tuc-24h/\" title=\"Tin tức 24h\">Tin tức 24h</a>,\n",
              " <a class=\"button-image bt-fb bt-list opa-7\" href=\"https://www.facebook.com/vietnamnet.vn\" target=\"_blank\">Facebook</a>,\n",
              " <a class=\"button-image bt-youtb bt-list opa-7\" href=\"https://www.youtube.com/vietnamnetofficial\" target=\"_blank\">Youtube</a>,\n",
              " <a class=\"login-vnnid\" href=\"javascript:void(0)\"> </a>,\n",
              " <a class=\"btn-vnnid-red\" href=\"javascript:void(0)\"> </a>]"
            ]
          },
          "metadata": {
            "tags": []
          },
          "execution_count": 5
        }
      ]
    },
    {
      "cell_type": "code",
      "metadata": {
        "id": "17qOUcXXIONk"
      },
      "source": [
        "a= set()\r\n",
        "for i in results:\r\n",
        "    a.add(i['href'])"
      ],
      "execution_count": 6,
      "outputs": []
    },
    {
      "cell_type": "markdown",
      "metadata": {
        "id": "ecW3S8eaIRN8"
      },
      "source": [
        "Các đường link có một số không có .html ở đằng sau và htpp.... ở trước"
      ]
    },
    {
      "cell_type": "code",
      "metadata": {
        "colab": {
          "base_uri": "https://localhost:8080/"
        },
        "id": "99sOaO0HIZes",
        "outputId": "32089bdd-0abd-4455-c7c8-4e5a9f1f46cb"
      },
      "source": [
        "list(a)[0:20]"
      ],
      "execution_count": 7,
      "outputs": [
        {
          "output_type": "execute_result",
          "data": {
            "text/plain": [
              "['/vn/bao-ve-nguoi-tieu-dung/tin-tuc/tuong-giong-tao-lun-sieu-trai-nhieu-nguoi-mua-phai-tao-gan-len-cay-danh-danh-707188.html?vnn_source=trangchu&vnn_medium=box-bao-ve-nguoi-tieu-dung2',\n",
              " '/vn/the-thao/bong-da-viet-nam/',\n",
              " '/vn/giao-duc/tuyen-sinh/thi-sinh-xet-tuyen-dai-hoc-2021-duoc-dieu-chinh-nguyen-vong-xet-tuyen-nhieu-lan-707905.html',\n",
              " '/vn/suc-khoe/cac-loai-benh/',\n",
              " 'https://2sao.vn/',\n",
              " '/vn/dai-hoi-dang/lanh-dao-cung-hon-1-500-dai-bieu-du-dai-hoi-dang-vieng-chu-tich-ho-chi-minh-708025.html?vnn_source=trangchu&vnn_medium=moinong11',\n",
              " '/vn/phap-luat/ho-so-vu-an/bat-thieu-ta-cong-an-tp-hai-phong-vi-lam-sai-lech-ho-so-707820.html?vnn_source=trangchu&vnn_medium=box-phap-luat5',\n",
              " '/vn/giai-tri/di-san-my-thuat-san-khau/',\n",
              " '/vn/thoi-su/an-toan-giao-thong/ha-noi-cam-nhieu-tuyen-duong-phuc-vu-dai-hoi-xiii-cua-dang-705947.html',\n",
              " '/vn/ban-doc/',\n",
              " '/vn/ban-doc/chia-se/',\n",
              " '/vn/the-thao/bong-da-quoc-te/bruno-fernandes-tiet-lo-cavani-chi-sut-phat-mu-3-2-liverpool-708043.html?vnn_source=trangchu&vnn_medium=box-the-thao5',\n",
              " '/vn/giai-tri/the-gioi-sao/sao-viet-hom-nay-25-1-hong-nhung-tinh-cam-ben-ban-trai-707954.html?vnn_source=trangchu&vnn_medium=moinong15',\n",
              " '/vn/ban-doc/hoi-am/gop-nhieu-so-bhxh-khong-trung-nhau-707859.html?vnn_source=trangchu&vnn_medium=box-ban-doc3',\n",
              " '/vn/kinh-doanh/tu-van-tai-chinh/',\n",
              " '/vn/ban-doc/chia-se/thuong-be-trai-hong-mat-da-bong-tung-mang-vi-can-benh-man-tinh-705855.html?vnn_source=trangchu&vnn_medium=box-ban-doc4',\n",
              " '/vn/su-kien/toan-canh-cuoc-khung-hoang-tren-doi-capitol-703543.html',\n",
              " 'https://vietnamnet.vn/vn/dai-hoi-dang-lan-thu-xiii/',\n",
              " 'https://2sao.vn/lau-dai-dat-vang-o-ninh-binh-xay-tho-400-ty-rieng-cong-40-ty-n-249770.html',\n",
              " '/vn/thoi-su/chi-1-thao-tac-nguoi-mua-biet-duoc-tuoi-cay-dao-trong-xa-hang-tram-km-708074.html']"
            ]
          },
          "metadata": {
            "tags": []
          },
          "execution_count": 7
        }
      ]
    },
    {
      "cell_type": "markdown",
      "metadata": {
        "id": "7dHISADvIj8U"
      },
      "source": [
        "sử dụng RegEx"
      ]
    },
    {
      "cell_type": "code",
      "metadata": {
        "id": "xS9L2CIvIm2c"
      },
      "source": [
        "mau = '^(http).*(html)$'\r\n",
        "url = 'https://vietnamnet.vn/vn/su-kien/diego-maradona-qua-doi-692831.html'\r\n",
        "url_2 = 'https://vietnamnet.vn/vn/tuanvietnam/dachieu/cu-soc-dai-dich-covid-19-co-trong-nguy-695215.html'"
      ],
      "execution_count": 10,
      "outputs": []
    },
    {
      "cell_type": "code",
      "metadata": {
        "colab": {
          "base_uri": "https://localhost:8080/"
        },
        "id": "4gf-kLrLJHzk",
        "outputId": "fbed7598-4d71-41d4-f70e-e854a5b02511"
      },
      "source": [
        "re.match(mau,url)"
      ],
      "execution_count": 11,
      "outputs": [
        {
          "output_type": "execute_result",
          "data": {
            "text/plain": [
              "<_sre.SRE_Match object; span=(0, 67), match='https://vietnamnet.vn/vn/su-kien/diego-maradona-q>"
            ]
          },
          "metadata": {
            "tags": []
          },
          "execution_count": 11
        }
      ]
    },
    {
      "cell_type": "code",
      "metadata": {
        "colab": {
          "base_uri": "https://localhost:8080/"
        },
        "id": "lukJqUVQJMRE",
        "outputId": "f8fd5420-8df8-4a93-d2d6-f70da57e2ac1"
      },
      "source": [
        "re.match(mau,url_2)"
      ],
      "execution_count": 12,
      "outputs": [
        {
          "output_type": "execute_result",
          "data": {
            "text/plain": [
              "<_sre.SRE_Match object; span=(0, 95), match='https://vietnamnet.vn/vn/tuanvietnam/dachieu/cu-s>"
            ]
          },
          "metadata": {
            "tags": []
          },
          "execution_count": 12
        }
      ]
    },
    {
      "cell_type": "markdown",
      "metadata": {
        "id": "XNZkgrMPKAqc"
      },
      "source": [
        "Bắt đầu tìm link hợp lý"
      ]
    },
    {
      "cell_type": "code",
      "metadata": {
        "id": "qKODuInlJbEj"
      },
      "source": [
        "url_tim_duoc = set()\r\n",
        "for i in results:\r\n",
        "    a = i['href']\r\n",
        "    mau = '^(http).*(html|epi)$'\r\n",
        "    mau2 = '^/.*(html|epi)$'\r\n",
        "    if re.match(mau, a):\r\n",
        "        url_tim_duoc.add(a)\r\n",
        "    else:\r\n",
        "        if re.match(mau2, a):\r\n",
        "            url_lien_quan = 'https://vietnamnet.vn' + a\r\n",
        "            url_tim_duoc.add(url_lien_quan)"
      ],
      "execution_count": 14,
      "outputs": []
    },
    {
      "cell_type": "code",
      "metadata": {
        "colab": {
          "base_uri": "https://localhost:8080/"
        },
        "id": "5exK107oJwBM",
        "outputId": "f7e5b61a-2a53-4cb8-b787-eb78e52726ca"
      },
      "source": [
        "list(url_tim_duoc)[0:10]"
      ],
      "execution_count": 15,
      "outputs": [
        {
          "output_type": "execute_result",
          "data": {
            "text/plain": [
              "['https://vietnamnet.vn/vn/the-gioi/hanh-dong-bat-ngo-cua-vo-chong-ong-biden-voi-linh-ve-binh-quoc-gia-my-707743.html',\n",
              " 'https://vietnamnet.vn/vn/thoi-su/ong-quach-thanh-giang-lam-vien-truong-vksnd-tp-thu-duc-708054.html',\n",
              " 'https://id.vietnamnet.vn/Home.html',\n",
              " 'https://vietnamnet.vn/vn/the-gioi/ong-biden-dat-duoc-nhieu-dong-thuan-voi-cac-nuoc-dong-minh-707863.html',\n",
              " 'https://vietnamnet.vn/vn/thoi-su/chi-1-thao-tac-nguoi-mua-biet-duoc-tuoi-cay-dao-trong-xa-hang-tram-km-708074.html',\n",
              " 'https://vietnamnet.vn/vn/bat-dong-san/kinh-nghiem-tu-van/dat-nhung-do-vat-nay-trong-nha-de-an-nen-lam-ra-707748.html',\n",
              " 'https://vietnamnet.vn/vn/doi-song/gioi-tre/chang-trai-chan-bo-binh-dinh-su-noi-tieng-giup-toi-co-thu-nhap-bat-ngo-707762.html',\n",
              " 'https://vietnamnet.vn/vn/bat-dong-san/du-an/tp-hcm-se-cong-khai-cac-du-an-the-chap-ngan-hang-giam-so-hong-cua-cu-dan-707786.html',\n",
              " 'https://vietnamnet.vn/vn/hop-tac/cong-nghiep-ho-tro/chinh-sach-va-thi-truong/hieu-truong-truong-cd-co-dien-hn-chung-toi-moi-doanh-nghiep-vao-cung-dao-tao-700945.html',\n",
              " 'https://vietnamnet.vn/vn/hop-tac/cong-nghiep-ho-tro/chinh-sach-va-thi-truong/nang-cao-nang-luc-canh-tranh-cho-doanh-nghiep-cnht-viet-nam-698936.html']"
            ]
          },
          "metadata": {
            "tags": []
          },
          "execution_count": 15
        }
      ]
    }
  ]
}