{
  "nbformat": 4,
  "nbformat_minor": 0,
  "metadata": {
    "colab": {
      "name": "Untitled31.ipynb",
      "provenance": [],
      "authorship_tag": "ABX9TyN9OCIpPhT0c8glkPmyMaLm",
      "include_colab_link": true
    },
    "kernelspec": {
      "name": "python3",
      "display_name": "Python 3"
    },
    "language_info": {
      "name": "python"
    }
  },
  "cells": [
    {
      "cell_type": "markdown",
      "metadata": {
        "id": "view-in-github",
        "colab_type": "text"
      },
      "source": [
        "<a href=\"https://colab.research.google.com/github/thangpro1242002/thangpro1242002/blob/main/kiem_dinh_z.ipynb\" target=\"_parent\"><img src=\"https://colab.research.google.com/assets/colab-badge.svg\" alt=\"Open In Colab\"/></a>"
      ]
    },
    {
      "cell_type": "code",
      "metadata": {
        "colab": {
          "base_uri": "https://localhost:8080/"
        },
        "id": "WvlzcY3_dhdi",
        "outputId": "bfea33bb-89c6-43b3-d86d-ef7a9fbb89df"
      },
      "source": [
        "import numpy as np\n",
        "import pandas as pd\n",
        "import random\n",
        "from scipy import stats\n",
        "from statsmodels.stats.weightstats import ztest\n",
        "import warnings\n",
        "import matplotlib.pyplot as plt\n",
        "import seaborn as sns\n",
        "from scipy import stats as st\n",
        "%matplotlib inline"
      ],
      "execution_count": null,
      "outputs": [
        {
          "output_type": "stream",
          "text": [
            "/usr/local/lib/python3.7/dist-packages/statsmodels/tools/_testing.py:19: FutureWarning: pandas.util.testing is deprecated. Use the functions in the public API at pandas.testing instead.\n",
            "  import pandas.util.testing as tm\n"
          ],
          "name": "stderr"
        }
      ]
    },
    {
      "cell_type": "markdown",
      "metadata": {
        "id": "BxExpSijdjGQ"
      },
      "source": [
        "XÂY DỰNG CHƯƠNG TRÌNH KIỂM ĐỊNH Z (HOẶC T) CHO CÁC BÀI TẬP SAU\n",
        "\n",
        "Gợi ý:\n",
        "\n",
        "Số liệu được sinh ngẫu nhiên theo phân phối chuẩn\n",
        "Sử dụng gói phần mềm statsmodels để tiến hành kiểm định\n",
        "Đối với các bài tập kiểm định giả thuyết thì sinh viên cần phát biểu các giả thuyết (bằng tiếng Việt)  H0  và  Ha  trước khi lập trình kiểm định"
      ]
    },
    {
      "cell_type": "markdown",
      "metadata": {
        "id": "N32DyEzkdqY_"
      },
      "source": [
        "Bài 1: You’re a Q/C inspector for Gallo. The sample standard deviation for 2-liter bottles is .05 liters. A random sample of 100 bottles showed sasmple mean = 1.99 liters. What is the 90% confidence interval estimate of the true mean amount in 2-liter bottles?"
      ]
    },
    {
      "cell_type": "code",
      "metadata": {
        "colab": {
          "base_uri": "https://localhost:8080/"
        },
        "id": "rUFVE8zgfBZG",
        "outputId": "93b2e657-cd8c-436f-c7a7-a4e7e8ca16fe"
      },
      "source": [
        "from scipy import stats\n",
        "from math import sqrt\n",
        "\n",
        "\n",
        "sample_mean = 1.99\n",
        "sample_stddev = 0.05\n",
        "n_size = 100\n",
        "onfidence_level = 0.9\n",
        "# Tính bậc tự do\n",
        "degrees_of_freedom = n_size - 1\n",
        "# Tính xác xuất giá trị nằm bền trái t-value trong phân phối t (t-distribution)\n",
        "one_tailed_prob = (1 - 0.9)/2\n",
        "one_tailed_prob\n",
        "# Tính t-value \n",
        "t_value = stats.t.ppf(1 - one_tailed_prob, degrees_of_freedom)\n",
        "t_value\n",
        "sampling_dist_mean_stddev = sample_stddev/sqrt(n_size)\n",
        "sampling_dist_mean_stddev\n",
        "confidence_interval_1 =  sample_mean - (t_value*sampling_dist_mean_stddev)\n",
        "confidence_interval_2 =  sample_mean + (t_value*sampling_dist_mean_stddev)\n",
        "confidence_intervals = (confidence_interval_1, confidence_interval_2)\n",
        "confidence_intervals\n",
        "print(\"The 90% confidence interval for the true population mean height is \",confidence_intervals)\n",
        "\n"
      ],
      "execution_count": 2,
      "outputs": [
        {
          "output_type": "stream",
          "text": [
            "The 90% confidence interval for the true population mean height is  (1.981698044220018, 1.998301955779982)\n"
          ],
          "name": "stdout"
        }
      ]
    },
    {
      "cell_type": "markdown",
      "metadata": {
        "id": "gAPIFdrOjvP-"
      },
      "source": [
        "Bài 2: You’re a time study analyst in manufacturing. You’ve recorded the following task times (min.): 3.6, 4.2, 4.0, 3.5, 3.8, 3.1. What is the 90% confidence interval estimate of the population mean task time?"
      ]
    },
    {
      "cell_type": "code",
      "metadata": {
        "id": "-fCP41z-jxfU",
        "colab": {
          "base_uri": "https://localhost:8080/"
        },
        "outputId": "3404bee8-4433-4a46-d602-a10cf97371ec"
      },
      "source": [
        "import numpy as np\n",
        "import scipy.stats as st\n",
        "#define sample data\n",
        "data = [3.6, 4.2, 4.0, 3.5, 3.8, 3.1]\n",
        "#create 90% confidence interval for population mean weight\n",
        "x= st.t.interval(alpha=0.9, df=len(data)-1, loc=np.mean(data), scale=st.sem(data)) \n",
        "print(\"The 95% confidence interval for the true population mean height is \",x)"
      ],
      "execution_count": 3,
      "outputs": [
        {
          "output_type": "stream",
          "text": [
            "The 95% confidence interval for the true population mean height is  (3.3792758632100677, 4.020724136789934)\n"
          ],
          "name": "stdout"
        }
      ]
    },
    {
      "cell_type": "markdown",
      "metadata": {
        "id": "MrxX6S1pQqPn"
      },
      "source": [
        "Bài 3: Does an average box of cereal contain 368 grams of cereal? A random sample of 25 boxes had $\\overline{\\rm x}$ = 372.5. The company has specified $\\sigma$ to be 25 grams. Test at the .05 level of significance."
      ]
    },
    {
      "cell_type": "code",
      "metadata": {
        "colab": {
          "base_uri": "https://localhost:8080/"
        },
        "id": "2lOmTK1-Qo5-",
        "outputId": "2b1f23a6-dec7-4929-bad3-84d2848328e1"
      },
      "source": [
        "import numpy as np\n",
        "from statsmodels.stats.weightstats import ztest\n",
        "import warnings\n",
        "warnings.filterwarnings('ignore')\n",
        "\n",
        "mean = 372.5\n",
        "n = 25\n",
        "σ = 25\n",
        "µ = 368\n",
        "z = (mean - µ) / (σ / (n ** (1/2)))\n",
        "alpha = 0.05\n",
        "\n",
        "samples = np.random.normal(mean, σ, µ)\n",
        "\n",
        "ztest_Score, p_value= ztest(samples, value = µ, alternative='larger')\n",
        "if(p_value <  alpha):\n",
        "  print(\"Có bằng chứng để bác bỏ giả thuyết H0\")\n",
        "else:\n",
        "  print(\"Chưa có bằng chứng để bác bỏ giả thuyết H0\")"
      ],
      "execution_count": 4,
      "outputs": [
        {
          "output_type": "stream",
          "text": [
            "Có bằng chứng để bác bỏ giả thuyết H0\n"
          ],
          "name": "stdout"
        },
        {
          "output_type": "stream",
          "text": [
            "/usr/local/lib/python3.7/dist-packages/statsmodels/tools/_testing.py:19: FutureWarning: pandas.util.testing is deprecated. Use the functions in the public API at pandas.testing instead.\n",
            "  import pandas.util.testing as tm\n"
          ],
          "name": "stderr"
        }
      ]
    },
    {
      "cell_type": "markdown",
      "metadata": {
        "id": "RugKg1u-ROsP"
      },
      "source": [
        "Bài 4: You’re a Q/C inspector. You want to find out if a new machine is making electrical cords to customer specification: average breaking strength of 70 lb. with $\\sigma$ = 3.5 lb. You take a sample of 36 cords & compute a sample mean of 69.7 lb. At the .05 level of significance, is there evidence that the machine is not meeting the average breaking strength?"
      ]
    },
    {
      "cell_type": "code",
      "metadata": {
        "colab": {
          "base_uri": "https://localhost:8080/"
        },
        "id": "IO82-_bERVon",
        "outputId": "150a9fb1-2154-499e-f185-2990dd22a74d"
      },
      "source": [
        "from statsmodels.stats.weightstats import ztest\n",
        "import warnings\n",
        "warnings.filterwarnings('ignore')\n",
        "\n",
        "mean = 69.7\n",
        "n = 36\n",
        "σ = 3.5\n",
        "µ = 70\n",
        "z = (mean - µ) / (σ / (n ** (1/2)))\n",
        "alpha = 0.05\n",
        "\n",
        "samples = np.random.normal(mean, σ, µ)\n",
        "\n",
        "ztest_Score, p_value= ztest(samples, value = µ, alternative='larger')\n",
        "if(p_value <  alpha):\n",
        "  print(\"Có bằng chứng để bác bỏ giả thuyết H0\")\n",
        "else:\n",
        "  print(\"Chưa có bằng chứng để bác bỏ giả thuyết H0\")"
      ],
      "execution_count": 5,
      "outputs": [
        {
          "output_type": "stream",
          "text": [
            "Chưa có bằng chứng để bác bỏ giả thuyết H0\n"
          ],
          "name": "stdout"
        }
      ]
    },
    {
      "cell_type": "markdown",
      "metadata": {
        "id": "CsjSsrGkR23O"
      },
      "source": [
        "Bài 5: Does an average box of cereal contain more than 368 grams of cereal? A random sample of 25 boxes showed $\\overline{\\rm x}$ = 372.5. The company has specified $\\sigma$ to be 25 grams. Test at the .05 level of significance."
      ]
    },
    {
      "cell_type": "code",
      "metadata": {
        "colab": {
          "base_uri": "https://localhost:8080/"
        },
        "id": "EWxe5JRdR3tn",
        "outputId": "2b765b88-f77c-4103-8025-bc4c10009567"
      },
      "source": [
        "import numpy as np\n",
        "from statsmodels.stats.weightstats import ztest\n",
        "import warnings\n",
        "warnings.filterwarnings('ignore')\n",
        "n=25\n",
        "mean=372.5\n",
        "µ = 368\n",
        "σ = 25\n",
        "z = (mean - µ) / (σ / (n ** (1/2)))\n",
        "alpha = 0.05\n",
        "\n",
        "samples = np.random.normal(mean, σ, µ)\n",
        "\n",
        "ztest_Score, p_value= ztest(samples, value = µ, alternative='larger')\n",
        "if(p_value <  alpha):\n",
        "  print(\"Có bằng chứng để bác bỏ giả thuyết H0\")\n",
        "else:\n",
        "  print(\"Chưa có bằng chứng để bác bỏ giả thuyết H0\")"
      ],
      "execution_count": 6,
      "outputs": [
        {
          "output_type": "stream",
          "text": [
            "Có bằng chứng để bác bỏ giả thuyết H0\n"
          ],
          "name": "stdout"
        }
      ]
    },
    {
      "cell_type": "markdown",
      "metadata": {
        "id": "LmDI0Rq8bHEN"
      },
      "source": [
        "Bài 6: You’re an analyst for Ford. You want to find out if the average miles per gallon of Escorts is at least 32 mpg. Similar models have a standard deviation of 3.8 mpg. You take a sample of 60 Escorts & compute a sample mean of 30.7 mpg. At the .01 level of significance, is there evidence that the miles per gallon is less than 32?"
      ]
    },
    {
      "cell_type": "code",
      "metadata": {
        "colab": {
          "base_uri": "https://localhost:8080/"
        },
        "id": "eHeWm6YwbJxL",
        "outputId": "ee175aa6-3e2b-4154-a175-19c6203d5a01"
      },
      "source": [
        "alpha=0.01\n",
        "null_mean=32\n",
        "#sinh ngẫu nhiên một mẫu 60 phần tử có trung bình mẫu là 30.7 độ lệch chuẩn là 3.8\n",
        "samples = np.random.normal(30.7,3.8,60)\n",
        "#kiểm định z\n",
        "ztest_Score, p_value= ztest(samples, value = null_mean, alternative='larger')\n",
        "print('z = ', ztest_Score, '; p = ', p_value)\n",
        "if (p_value <  alpha)and (ztest_Score<0):\n",
        "  print(\"Có bằng chứng để bác bỏ giả thuyết H0\")\n",
        "else:\n",
        "  print(\"Chưa có bằng chứng để bác bỏ giả thuyết H0\")\n"
      ],
      "execution_count": 7,
      "outputs": [
        {
          "output_type": "stream",
          "text": [
            "z =  -2.2141004903763783 ; p =  0.98658906654101\n",
            "Chưa có bằng chứng để bác bỏ giả thuyết H0\n"
          ],
          "name": "stdout"
        }
      ]
    },
    {
      "cell_type": "markdown",
      "metadata": {
        "id": "ccHX1uSRdmk6"
      },
      "source": [
        "Bài 7: Does an average box of cereal contain 368 grams of cereal? A random sample of 25 boxes showed $\\overline{\\rm x}$ = 372.5. The company has specified $\\sigma$ to be 15 grams. Find the p-Value."
      ]
    },
    {
      "cell_type": "code",
      "metadata": {
        "colab": {
          "base_uri": "https://localhost:8080/"
        },
        "id": "A5UigNEJdpDy",
        "outputId": "d9b3599c-44d4-4080-825d-3606073b834c"
      },
      "source": [
        "#xác định thông số\n",
        "null_mean = 368\n",
        "#Sinh ngẫu nhiên một mẫu 25 phần tử có trung bình mẫu là 372.5, độ lệch chuẩn là 25\n",
        "samples = np.random.normal(372.5, 25, 25)\n",
        "#Kiểm định t\n",
        "ttest_Score, p_value = st.ttest_1samp(samples, null_mean)\n",
        "print('p_value = ',p_value)"
      ],
      "execution_count": 8,
      "outputs": [
        {
          "output_type": "stream",
          "text": [
            "p_value =  0.9981363305315791\n"
          ],
          "name": "stdout"
        }
      ]
    },
    {
      "cell_type": "markdown",
      "metadata": {
        "id": "Jz7x179deUvy"
      },
      "source": [
        "Bài 8: Does an average box of cereal contain more than 368 grams of cereal? A random sample of 25 boxes showed $\\overline{\\rm x}$ = 372.5. The company has specified $\\sigma$ to be 15 grams. Find the p-Value."
      ]
    },
    {
      "cell_type": "code",
      "metadata": {
        "colab": {
          "base_uri": "https://localhost:8080/"
        },
        "id": "Nb6kgZaVeWra",
        "outputId": "5ea77f82-b1ff-4066-de90-1a6b8037ec88"
      },
      "source": [
        "#Xác định thông số\n",
        "null_mean = 368\n",
        "#Sinh ngẫu nhiên một mẫu 25 phần tử có trung bình mẫu là 372.5, độ lệch chuẩn là 25\n",
        "samples = np.random.normal(372.5, 25, 25)\n",
        "#Kiểm định t\n",
        "ttest_Score, p_value = st.ttest_1samp(samples, null_mean)\n",
        "print('p_value = ',p_value)"
      ],
      "execution_count": 10,
      "outputs": [
        {
          "output_type": "stream",
          "text": [
            "p_value =  0.9420178169737079\n"
          ],
          "name": "stdout"
        }
      ]
    },
    {
      "cell_type": "markdown",
      "metadata": {
        "id": "du_b7qcHf6T5"
      },
      "source": [
        "Bài 9: You’re an analyst for Ford. You want to find out if the average miles per gallon of Escorts is less than 32 mpg. Similar models have a standard deviation of 3.8 mpg. You take a sample of 60 Escorts & compute a sample mean of 30.7 mpg. What is the value of the observed level of significance (p-Value)?"
      ]
    },
    {
      "cell_type": "code",
      "metadata": {
        "colab": {
          "base_uri": "https://localhost:8080/"
        },
        "id": "m5lcZAXZf8kK",
        "outputId": "842a3a05-fb22-4565-8c11-4f0dd9ef93dd"
      },
      "source": [
        "null_mean = 32\n",
        "#sinh ngẫu nhiên một mẫu 60 phần tử có trung bình mẫu là 30.7 độ lệch chuẩn là 3.8\n",
        "samples = np.random.normal(30.7,3.8,60)\n",
        "#kiểm định z\n",
        "ztest_Score, p_value= ztest(samples, value = null_mean, alternative='larger')\n",
        "print(' p = ', p_value)"
      ],
      "execution_count": 11,
      "outputs": [
        {
          "output_type": "stream",
          "text": [
            " p =  0.9617215051507917\n"
          ],
          "name": "stdout"
        }
      ]
    },
    {
      "cell_type": "markdown",
      "metadata": {
        "id": "vMaQWTD6gq8h"
      },
      "source": [
        "Bài 10: Does an average box of cereal contain 368 grams of cereal? A random sample of 36 boxes had a mean of 372.5 and a standard deviation of 12 grams. Test at the .05 level of significance."
      ]
    },
    {
      "cell_type": "code",
      "metadata": {
        "colab": {
          "base_uri": "https://localhost:8080/"
        },
        "id": "fG5s_mbFgs_J",
        "outputId": "a16fbcd3-2cc7-4804-8dcc-6b8dec01c706"
      },
      "source": [
        "alpha = 0.05\n",
        "null_mean = 368\n",
        "\n",
        "#Sinh ngẫu nhiên một mẫu 25 phần tử có trung bình mẫu là 372.5, độ lệch chuẩn là 25\n",
        "samples = np.random.normal(372.5, 12, 36)\n",
        "#Kiểm định z\n",
        "ztest_Score, p_value= ztest(samples, value = null_mean, alternative='larger')\n",
        "print('z = ', ztest_Score, '; p = ', p_value)\n",
        "if (p_value <  alpha/2):\n",
        "  print(\"Có bằng chứng để bác bỏ giả thuyết H0\")\n",
        "else:\n",
        "  print(\"Chưa có bằng chứng để bác bỏ giả thuyết H0\")"
      ],
      "execution_count": 12,
      "outputs": [
        {
          "output_type": "stream",
          "text": [
            "z =  0.9158393119820287 ; p =  0.17987559058651942\n",
            "Chưa có bằng chứng để bác bỏ giả thuyết H0\n"
          ],
          "name": "stdout"
        }
      ]
    },
    {
      "cell_type": "markdown",
      "metadata": {
        "id": "Aah2zdmtgv-R"
      },
      "source": [
        "Bài 11: You work for the FTC. A manufacturer of detergent claims that the mean weight of detergent is 3.25 lb. You take a random sample of 64 containers. You calculate the sample average to be 3.238 lb. with a standard deviation of .117 lb. At the .01 level of significance, is the manufacturer correct?"
      ]
    },
    {
      "cell_type": "code",
      "metadata": {
        "id": "vXk406l-gyvK"
      },
      "source": [
        "alpha = 0.01\n",
        "null_mean = 3.25\n",
        "#Sinh ngẫu nhiên một mẫu 64 phần tử có trung bình mẫu là 3.238, độ lệch chuẩn là 0.117\n",
        "samples = np.random.normal(3.238, 0.117, 64)\n",
        "ztest_Score, p_value= ztest(samples, value = null_mean, alternative='larger')\n",
        "print('z = ', ztest_Score, '; p = ', p_value)\n",
        "if (p_value <  alpha/2):\n",
        "  print(\"Có bằng chứng để bác bỏ giả thuyết H0\")\n",
        "else:\n",
        "  print(\"Chưa có bằng chứng để bác bỏ giả thuyết H0\")"
      ],
      "execution_count": null,
      "outputs": []
    },
    {
      "cell_type": "markdown",
      "metadata": {
        "id": "QIFzpzqVg0qJ"
      },
      "source": [
        "Bài 12: Is the average capacity of batteries less than 140 ampere-hours? A random sample of 20 batteries had a mean of 138.47 and a standard deviation of 2.66. Assume a normal distribution. Test at the .05 level of significance."
      ]
    },
    {
      "cell_type": "code",
      "metadata": {
        "colab": {
          "base_uri": "https://localhost:8080/"
        },
        "id": "RbZaWNmig2pZ",
        "outputId": "9b449efe-970d-40c6-8b5b-6e6f475ce83c"
      },
      "source": [
        "alpha = 0.05\n",
        "null_mean = 140\n",
        "#Sinh ngẫu nhiên một mẫu 20 phần tử có trung bình mẫu là 138.47, độ lệch chuẩn là 2.66\n",
        "samples = np.random.normal(138.47, 2.66, 20)\n",
        "#Kiểm định t\n",
        "ttest_Score, p_value = st.ttest_1samp(samples, null_mean)\n",
        "print('t = ',ttest_Score,', p = ',p_value)\n",
        "if(p_value <  alpha) and (ttest_Score>0):\n",
        "  print(\"Có bằng chứng để bác bỏ giả thuyết H0\")\n",
        "else:\n",
        "  print(\"Chưa có bằng chứng để bác bỏ giả thuyết H0\")"
      ],
      "execution_count": 13,
      "outputs": [
        {
          "output_type": "stream",
          "text": [
            "t =  -2.5401588588898583 , p =  0.01997139103824675\n",
            "Chưa có bằng chứng để bác bỏ giả thuyết H0\n"
          ],
          "name": "stdout"
        }
      ]
    },
    {
      "cell_type": "markdown",
      "metadata": {
        "id": "pI_mCkFMhLYx"
      },
      "source": [
        "Bài 13: You’re a marketing analyst for Wal-Mart. Wal-Mart had teddy bears on sale last week. The weekly sales of bears sold in 10 stores was: 8 11 0 4 7 8 10 5 8 3. At the .05 level of significance, is there evidence that the average bear sales per store is more than 5?"
      ]
    },
    {
      "cell_type": "code",
      "metadata": {
        "colab": {
          "base_uri": "https://localhost:8080/"
        },
        "id": "f2v4HBaRhOZR",
        "outputId": "5a8d7ab0-8904-4911-e0c9-86773f30f885"
      },
      "source": [
        "a = np.array([8,11,0,4,7,8,10,5,8,3])\n",
        "alpha = 0.05\n",
        "null_mean = 5\n",
        "#Kiểm định t\n",
        "ttest_Score, p_value = st.ttest_1samp(a, null_mean)\n",
        "print('t = ',ttest_Score,', p = ',p_value)\n",
        "if(p_value <  alpha) and (ttest_Score>0):\n",
        "  print(\"Có bằng chứng để bác bỏ giả thuyết H0\")\n",
        "else:\n",
        "  print(\"Chưa có bằng chứng để bác bỏ giả thuyết H0\")"
      ],
      "execution_count": 14,
      "outputs": [
        {
          "output_type": "stream",
          "text": [
            "t =  1.3125000000000004 , p =  0.2218341554238571\n",
            "Chưa có bằng chứng để bác bỏ giả thuyết H0\n"
          ],
          "name": "stdout"
        }
      ]
    }
  ]
}